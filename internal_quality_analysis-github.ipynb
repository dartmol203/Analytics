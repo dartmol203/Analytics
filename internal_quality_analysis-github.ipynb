{
 "cells": [
  {
   "metadata": {},
   "cell_type": "markdown",
   "source": [
    "# Analytics - Product Quality - GitHub\n",
    "\n",
    "#### Date: 2020/02\n",
    "\n",
    "#### SUMMARY:\n",
    "\n",
    "- This notebook represents the project quality analysis of the date exposed right above. \n",
    "\n",
    "### TEAM:\n",
    "\n",
    "##### Semester: YYYY/0X\n",
    "##### Professor: Hilmer Neri\n",
    "\n",
    "##### Members:\n",
    "\n",
    "- Member x\n",
    "- Member y\n"
   ],
   "id": "dbbc8e922c94f071"
  },
  {
   "cell_type": "markdown",
   "source": [
    "### LIBRARIES"
   ],
   "metadata": {
    "collapsed": false
   },
   "id": "cc56e56572a75249"
  },
  {
   "cell_type": "code",
   "outputs": [],
   "source": [
    "# Deal with data\n",
    "import pandas as pd\n",
    "import json\n",
    "from glob import glob\n",
    "import os\n",
    "\n",
    "# Deal with visualization\n",
    "import seaborn as sns\n",
    "import matplotlib.pyplot as plt\n",
    "\n",
    "# Deal with type hints\n",
    "from typing import List\n",
    "\n",
    "# Deal with time\n",
    "import datetime"
   ],
   "metadata": {
    "collapsed": false,
    "ExecuteTime": {
     "end_time": "2024-06-12T20:09:03.884001Z",
     "start_time": "2024-06-12T20:09:03.878379Z"
    }
   },
   "id": "a3bcddb987f2383e",
   "execution_count": 2
  },
  {
   "metadata": {},
   "cell_type": "markdown",
   "source": "### GRAPH SETTINGS",
   "id": "8022b886908c303c"
  },
  {
   "metadata": {},
   "cell_type": "code",
   "outputs": [],
   "execution_count": null,
   "source": [
    "%config InlineBackend.figure_format ='retina'\n",
    "sns.set(font_scale=1.5)\n",
    "sns.set_style('darkgrid',\n",
    "              {'xtick.bottom' : True,\n",
    "               'ytick.left': True,\n",
    "               'grid.linestyle':'--',\n",
    "               'font.monospace': ['Computer Modern Typewriter'],\n",
    "               'axes.edgecolor' : 'white'})"
   ],
   "id": "3869c391e67f33d9"
  },
  {
   "metadata": {},
   "cell_type": "markdown",
   "source": "### DATAFRAME SETTINGS",
   "id": "8acf667d30c388a4"
  },
  {
   "metadata": {},
   "cell_type": "code",
   "outputs": [],
   "execution_count": null,
   "source": "pd.set_option(\"display.max_rows\", None, \"display.max_columns\", None)",
   "id": "8abe491f7ee0858"
  },
  {
   "metadata": {},
   "cell_type": "markdown",
   "source": "#### Replace your repository names",
   "id": "3644ede13815812"
  },
  {
   "metadata": {},
   "cell_type": "code",
   "outputs": [],
   "execution_count": null,
   "source": [
    "# Add your repos here\n",
    "# Example: ['YourRepoName_1', 'YourRepoName_2']\n",
    "repos_project = ['Admin']"
   ],
   "id": "cecffc2350fa1d75"
  },
  {
   "metadata": {},
   "cell_type": "markdown",
   "source": "#### Replace your build workflow .yml file name",
   "id": "e3f388eb3f29785b"
  },
  {
   "metadata": {},
   "cell_type": "code",
   "outputs": [],
   "execution_count": null,
   "source": [
    "# Set your build workflow .yml name\n",
    "# Example: build.yml -> build\n",
    "build_yml_name = \"code-analysis\""
   ],
   "id": "f7490ba63f779357"
  },
  {
   "metadata": {},
   "cell_type": "markdown",
   "source": "#### Filter dates - Workflow Runs",
   "id": "5e57ceaaebce00b7"
  },
  {
   "metadata": {},
   "cell_type": "code",
   "outputs": [],
   "execution_count": null,
   "source": [
    "# Set the dates you want to filter the analysis of workflow runs\n",
    "# Example: start_date_workflow_runs = \"2024-09-01\"\n",
    "#          end_date_workflow_runs = \"2024-09-05\"\n",
    "start_date_workflow_runs = \"2024-08-01\" # to get all dates: \"1999-01-01\"\n",
    "end_date_workflow_runs = \"2024-09-21\"   # to get all dates: \"2199-01-01\""
   ],
   "id": "c870e40563780575"
  },
  {
   "metadata": {},
   "cell_type": "markdown",
   "source": "#### Filter dates - Team Throughput",
   "id": "674c49cf596611af"
  },
  {
   "metadata": {},
   "cell_type": "code",
   "outputs": [],
   "execution_count": null,
   "source": [
    "# Set the dates you want to filter the analysis of issues\n",
    "# Example: start_date_issues = \"2024-09-01\"\n",
    "#          end_date_issues = \"2024-09-05\"\n",
    "start_date_issues = \"2024-08-01\" # to get all dates: \"1999-01-01\"\n",
    "end_date_issues = \"2024-09-21\"   # to get all dates: \"2199-01-01\"\n",
    "### GitHub\n",
    "##### Path to the folder with all your jsons"
   ],
   "id": "fe5af99d4df7ae45"
  },
  {
   "metadata": {},
   "cell_type": "code",
   "outputs": [],
   "execution_count": null,
   "source": [
    "data_runs = glob('./analytics-raw-data/GitHub_API-Runs-fga-eps-mds-*.json')\n",
    "data_issues = glob('./analytics-raw-data/GitHub_API-Issues-fga-eps-mds-*.json')"
   ],
   "id": "d9e295d8013f968f"
  },
  {
   "metadata": {},
   "cell_type": "markdown",
   "source": "# Create Workflow Runs DataFrame",
   "id": "adf17a957dd9bddc"
  },
  {
   "cell_type": "markdown",
   "source": [
    "#### Unmarshall json"
   ],
   "metadata": {
    "collapsed": false
   },
   "id": "ffa8cabeda8ab48c"
  },
  {
   "cell_type": "code",
   "outputs": [],
   "source": [
    "def unmarshall(json_path: str) -> dict:\n",
    "    with open(json_path) as json_file:\n",
    "        json_obj = json.load(json_file)\n",
    "    return json_obj"
   ],
   "metadata": {
    "collapsed": false
   },
   "id": "26a5d6d115efe1a6",
   "execution_count": null
  },
  {
   "cell_type": "markdown",
   "source": "#### Extract Workflow Runs Data",
   "metadata": {
    "collapsed": false
   },
   "id": "7d100c7f5283260c"
  },
  {
   "metadata": {},
   "cell_type": "code",
   "outputs": [],
   "execution_count": null,
   "source": [
    "def get_workflow_data():\n",
    "    for json_path in data_runs:\n",
    "        dados = unmarshall(json_path)\n",
    "        table_data = []\n",
    "        for run in dados[\"workflow_runs\"]:\n",
    "            updated_at = datetime.datetime.strptime(run[\"updated_at\"], \"%Y-%m-%dT%H:%M:%SZ\")\n",
    "            created_at = datetime.datetime.strptime(run[\"created_at\"], \"%Y-%m-%dT%H:%M:%SZ\")\n",
    "            feedback_time = (updated_at - created_at).total_seconds()\n",
    "            \n",
    "            workflow_id = run[\"id\"]\n",
    "            conclusion = run[\"conclusion\"]\n",
    "            author = run[\"actor\"][\"login\"]\n",
    "            workflow_yml_name = run[\"path\"].split(\"/\")[-1][:-4]\n",
    "\n",
    "            repo = run[\"repository\"][\"name\"].split(\"-\")[-1]\n",
    "            \n",
    "            table_data.append({\n",
    "                \"Workflow_run ID\": workflow_id,\n",
    "                \"Conclusion\": conclusion,\n",
    "                \"Author\": author,\n",
    "                \"Created at\": created_at,\n",
    "                \"Updated at\": updated_at,\n",
    "                \"Feedback Time\": feedback_time,\n",
    "                \"Workflow .YML Name\": workflow_yml_name,\n",
    "                \"Repository Name\": repo\n",
    "            })\n",
    "\n",
    "    return table_data"
   ],
   "id": "528203040f19c888"
  },
  {
   "metadata": {},
   "cell_type": "markdown",
   "source": "#### Generate Workflow Runs DataFrame",
   "id": "dc738375f4e43090"
  },
  {
   "metadata": {},
   "cell_type": "code",
   "outputs": [],
   "execution_count": null,
   "source": [
    "def generate_workflow_runs_df(data: List[dict]) -> pd.DataFrame:\n",
    "    df = pd.DataFrame(data)\n",
    "\n",
    "    return df"
   ],
   "id": "606be758e428ea5c"
  },
  {
   "metadata": {},
   "cell_type": "code",
   "outputs": [],
   "execution_count": null,
   "source": [
    "workflow_run_df = generate_workflow_runs_df(get_workflow_data())\n",
    "workflow_run_df.head()"
   ],
   "id": "89c55799ce5bbb86"
  },
  {
   "metadata": {},
   "cell_type": "markdown",
   "source": "### Create dataframe per repository",
   "id": "ffee159b6c1c21b6"
  },
  {
   "metadata": {},
   "cell_type": "code",
   "outputs": [],
   "execution_count": null,
   "source": [
    "repos_dataframes = []\n",
    "\n",
    "for repo in repos_project:\n",
    "    dataframe = workflow_run_df[workflow_run_df['Repository Name'] == repo]\n",
    "    repos_dataframes.append({'name': repo, 'df': dataframe})"
   ],
   "id": "e92009e696da0ea1"
  },
  {
   "metadata": {},
   "cell_type": "markdown",
   "source": "# Create Issues DataFrame",
   "id": "fb1b97ea7e8d02d"
  },
  {
   "metadata": {},
   "cell_type": "markdown",
   "source": "#### Extract Issues Data",
   "id": "8012c921ff5f4059"
  },
  {
   "metadata": {},
   "cell_type": "code",
   "outputs": [],
   "execution_count": null,
   "source": [
    "def get_issues_data():\n",
    "    for json_path in data_issues:\n",
    "        dados = unmarshall(json_path)\n",
    "        table_data = []\n",
    "        for run in dados:\n",
    "            created_at = run[\"created_at\"]\n",
    "            closed_at  = run[\"closed_at\"]\n",
    "            number = run[\"number\"]\n",
    "            title = run[\"title\"]\n",
    "            \n",
    "            table_data.append({\n",
    "                \"Created at\": created_at,\n",
    "                \"Closed at\": closed_at,\n",
    "                \"Issue Number\": number,\n",
    "                \"Issue Title\": title,\n",
    "            })\n",
    "\n",
    "    return table_data"
   ],
   "id": "aee13450407045a1"
  },
  {
   "metadata": {},
   "cell_type": "markdown",
   "source": "#### Generate Issues DataFrame",
   "id": "9060b5193b75cb88"
  },
  {
   "metadata": {},
   "cell_type": "code",
   "outputs": [],
   "execution_count": null,
   "source": [
    "def generate_issues_df(data: List[dict]) -> pd.DataFrame:\n",
    "    df = pd.DataFrame(data)\n",
    "\n",
    "    df['Created at'] = pd.to_datetime(df['Created at'], format='%Y-%m-%dT%H:%M:%SZ')\n",
    "\n",
    "    df['Closed at'] = pd.to_datetime(df['Closed at'], format='%Y-%m-%dT%H:%M:%SZ')\n",
    "    \n",
    "    return df"
   ],
   "id": "8efedefe1e474254"
  },
  {
   "metadata": {},
   "cell_type": "code",
   "outputs": [],
   "execution_count": null,
   "source": [
    "issues_df = generate_issues_df(get_issues_data())\n",
    "issues_df.head()"
   ],
   "id": "d50e1d2ff5edf1f4"
  },
  {
   "metadata": {},
   "cell_type": "markdown",
   "source": "# Quality Aspect - Productivity",
   "id": "d245bc1eaad29f38"
  },
  {
   "metadata": {},
   "cell_type": "markdown",
   "source": "## Factor - Testing Performance",
   "id": "8f5d8da432a3e307"
  },
  {
   "metadata": {},
   "cell_type": "markdown",
   "source": "### CI Feedback Time",
   "id": "54b2530d40d03927"
  },
  {
   "metadata": {},
   "cell_type": "code",
   "outputs": [],
   "execution_count": null,
   "source": [
    "def ci_feedback_time(df: pd.DataFrame):\n",
    "    feedback_times = []\n",
    "    authors_feedback_times = {}\n",
    "    ci_feedback_times = []\n",
    "\n",
    "    # Filter for builds workflow runs only\n",
    "    df_filtered = df[df[\"Workflow .YML Name\"] == build_yml_name].copy()\n",
    "\n",
    "    for run in df_filtered.index:\n",
    "        updated_at = df[\"Updated at\"][run]\n",
    "        created_at = df[\"Created at\"][run]\n",
    "        feedback_time = (updated_at - created_at).total_seconds()\n",
    "        feedback_times.append(feedback_time)\n",
    "\n",
    "    ci_feedback_time = sum(feedback_times) / len(feedback_times)\n",
    "    df_filtered.loc[:, \"Ci Feedback Time\"] = ci_feedback_time\n",
    "\n",
    "    return df_filtered"
   ],
   "id": "36681140ebbef0b2"
  },
  {
   "metadata": {},
   "cell_type": "markdown",
   "source": "### Extra: Count of Successes and Failures Workflows",
   "id": "5f9cc2d4dccaf8a2"
  },
  {
   "metadata": {},
   "cell_type": "code",
   "outputs": [],
   "execution_count": null,
   "source": [
    "def count_success_failure_workflow_runs(df: pd.DataFrame):\n",
    "    counts = df['Conclusion'].value_counts()\n",
    "\n",
    "    num_failures = counts.get('failure', 0)\n",
    "    num_successes = counts.get('success', 0)\n",
    "\n",
    "    return num_failures, num_successes"
   ],
   "id": "827f37c0b5c435e"
  },
  {
   "metadata": {},
   "cell_type": "markdown",
   "source": "## Factor - Issues' Velocity",
   "id": "5312b0e6d320bf5a"
  },
  {
   "metadata": {},
   "cell_type": "markdown",
   "source": "### Team Throughput",
   "id": "9f6b1694f8b1633e"
  },
  {
   "metadata": {},
   "cell_type": "code",
   "outputs": [],
   "execution_count": null,
   "source": [
    "def team_throughput(df: pd.DataFrame, start_date: str, end_date: str):\n",
    "    start_date = pd.to_datetime(start_date)\n",
    "    end_date = pd.to_datetime(end_date)\n",
    "    \n",
    "    df_date_filtered = df[(df['Created at'] >= start_date) & (df['Closed at'] <= end_date + pd.Timedelta(days=1))]\n",
    "    df_created = df[(df['Created at'] >= start_date)]\n",
    "\n",
    "    return len(df_date_filtered[df_date_filtered[\"Closed at\"].notnull()]), len(df_created)"
   ],
   "id": "812e18f11de419b4"
  },
  {
   "metadata": {},
   "cell_type": "markdown",
   "source": [
    "## Calculate measures (workflow runs) for each repository\n",
    "\n",
    "Filter the dataset with the set dates in the notebook's beginning."
   ],
   "id": "9af661fc19d3bc69"
  },
  {
   "metadata": {},
   "cell_type": "code",
   "outputs": [],
   "execution_count": null,
   "source": [
    "def create_metrics_df(start_date: str, end_date: str) -> pd.DataFrame:\n",
    "    \n",
    "    start_date = pd.to_datetime(start_date)\n",
    "    end_date = pd.to_datetime(end_date)\n",
    "\n",
    "    m1_list = []\n",
    "    m2_list = []\n",
    "    m3_list = []\n",
    "\n",
    "    repository_list = []\n",
    "    version_list = []\n",
    "\n",
    "    for repo_info in repos_dataframes:\n",
    "        repo_df = repo_info[\"df\"]\n",
    "\n",
    "        repo_df['Updated at'] = pd.to_datetime(repo_df['Updated at'])\n",
    "\n",
    "        # Filter the selected date range\n",
    "        df_date_filtered = repo_df[(repo_df['Updated at'] >= start_date) & (repo_df['Updated at'] <= end_date + pd.Timedelta(days=1))]\n",
    "\n",
    "        try:\n",
    "            m1_list.append(ci_feedback_time(df_date_filtered))\n",
    "        except Exception:\n",
    "            m1_list.append(0)\n",
    "\n",
    "        try:\n",
    "            m2_list.append(count_success_failure_workflow_runs(df_date_filtered))\n",
    "        except Exception:\n",
    "            m2_list.append(0)\n",
    "\n",
    "        repository_list.append(repo_info['name'])\n",
    "\n",
    "    return m1_list, m2_list, repository_list"
   ],
   "id": "1e61f6702fdcb977"
  },
  {
   "metadata": {},
   "cell_type": "code",
   "outputs": [],
   "execution_count": null,
   "source": "m1_list, m2_list, repository_list = create_metrics_df(start_date_workflow_runs, end_date_workflow_runs)",
   "id": "610c9517561984ac"
  },
  {
   "metadata": {},
   "cell_type": "markdown",
   "source": "## Plotting Metrics Functions",
   "id": "61b5ea4570cd9d18"
  },
  {
   "cell_type": "markdown",
   "source": "### Generate CI Feedback Time Plots",
   "metadata": {
    "collapsed": false
   },
   "id": "caf5e0b5aa86287a"
  },
  {
   "metadata": {},
   "cell_type": "code",
   "outputs": [],
   "execution_count": null,
   "source": [
    "def ci_feedback_time_plots(df: pd.DataFrame, repo_name: str):\n",
    "    temp = df[['Created at', 'Ci Feedback Time']]\n",
    "    dates = temp.groupby(['Created at']).mean().reset_index()\n",
    "    dates['Created at'] = pd.to_datetime(dates['Created at'])\n",
    "\n",
    "    plt.figure(figsize=(15, 7))\n",
    "    plt.plot(range(len(dates)), dates['Ci Feedback Time'], marker='o', color='b', label='Feedback Time')\n",
    "    plt.xlabel(\"Created at\")\n",
    "    plt.ylabel(\"CI FeedBack Time\")\n",
    "    plt.title(f\"CI FeedBack Time By Creation Date - {repo_name}\")\n",
    "    plt.xticks(range(len(dates)), dates['Created at'].dt.strftime('%Y-%m-%d'), rotation=45)\n",
    "    plt.grid(True)\n",
    "    plt.legend()\n",
    "    plt.tight_layout()\n",
    "    plt.show()"
   ],
   "id": "41829d5ba8cb7dc3"
  },
  {
   "metadata": {},
   "cell_type": "markdown",
   "source": "### Generate Count of Successes and Failures Workflows Plots",
   "id": "ad6d5c1bc4723375"
  },
  {
   "metadata": {},
   "cell_type": "code",
   "outputs": [],
   "execution_count": null,
   "source": [
    "def count_sucess_failure_workflow_plot(data: list, repo_name: str):\n",
    "    labels = [\"Success\", \"Failure\"]\n",
    "    sizes = [data[1], data[0]]\n",
    "    plt.figure(figsize=(15, 7))\n",
    "    colors = ['lightgreen', 'crimson']\n",
    "    plt.pie(sizes, labels=labels, autopct='%1.1f%%', colors=colors)\n",
    "    plt.title(f\"Count of Workflows Runs Success and Failures - {repo_name}\")\n",
    "    plt.legend(labels, loc='best')\n",
    "    plt.tight_layout()\n",
    "    plt.show()"
   ],
   "id": "bd8a906d967a60d1"
  },
  {
   "metadata": {},
   "cell_type": "markdown",
   "source": "### Generate Throughput Pie Plot",
   "id": "ff31d2ee038811bb"
  },
  {
   "metadata": {},
   "cell_type": "code",
   "outputs": [],
   "execution_count": null,
   "source": [
    "def team_throughput_plot(data: list):\n",
    "    labels = [\"Closed Issues\", \"Not Closed Issues\"]\n",
    "    sizes = [data[0], data[1]-data[0]]\n",
    "    plt.figure(figsize=(15, 7))\n",
    "    colors = ['lightgreen', 'crimson']\n",
    "    plt.pie(sizes, labels=labels, autopct='%1.1f%%', colors=colors)\n",
    "    plt.title(\"Team Throughput Over a Date Range\")\n",
    "    plt.legend(labels, loc='best')\n",
    "    plt.tight_layout()\n",
    "    plt.show()"
   ],
   "id": "5f1c6babc653ea6c"
  },
  {
   "metadata": {},
   "cell_type": "markdown",
   "source": [
    "## Data Visualization\n",
    "\n",
    "In this area you will need to plot the metrics of each repository in the selected date range."
   ],
   "id": "1a1393414f74683c"
  },
  {
   "metadata": {},
   "cell_type": "code",
   "outputs": [],
   "execution_count": null,
   "source": [
    "for repo in range(len(repository_list)):\n",
    "    ci_feedback_time_plots(m1_list[repo], repository_list[repo])\n",
    "    count_sucess_failure_workflow_plot(m2_list[repo], repository_list[repo])"
   ],
   "id": "412d4edfd4889aa2"
  },
  {
   "metadata": {},
   "cell_type": "code",
   "outputs": [],
   "execution_count": null,
   "source": "team_throughput_plot(team_throughput(issues_df, start_date_issues, end_date_issues))",
   "id": "1622c9fa477a2187"
  },
  {
   "metadata": {},
   "cell_type": "code",
   "outputs": [],
   "execution_count": null,
   "source": "",
   "id": "4e2006d9a82a3654"
  }
 ],
 "metadata": {
  "kernelspec": {
   "display_name": "Python 3",
   "language": "python",
   "name": "python3"
  },
  "language_info": {
   "codemirror_mode": {
    "name": "ipython",
    "version": 2
   },
   "file_extension": ".py",
   "mimetype": "text/x-python",
   "name": "python",
   "nbconvert_exporter": "python",
   "pygments_lexer": "ipython2",
   "version": "2.7.6"
  }
 },
 "nbformat": 4,
 "nbformat_minor": 5
}
