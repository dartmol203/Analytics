{
 "cells": [
  {
   "cell_type": "markdown",
   "id": "8a55aecd-44f1-498f-a90e-cbf5c3c96784",
   "metadata": {},
   "source": [
    "# Analytics - Product Quality - GitHub\n",
    "\n",
    "#### Date: 2020/02\n",
    "\n",
    "#### SUMMARY:\n",
    "\n",
    "- This notebook represents the project quality analysis of the date exposed right above. \n",
    "\n",
    "### TEAM:\n",
    "\n",
    "##### Semester: YYYY/0X\n",
    "##### Professor: Hilmer Neri\n",
    "\n",
    "##### Members:\n",
    "\n",
    "- Member x\n",
    "- Member y\n"
   ]
  },
  {
   "cell_type": "markdown",
   "id": "cc56e56572a75249",
   "metadata": {
    "collapsed": false,
    "jupyter": {
     "outputs_hidden": false
    }
   },
   "source": [
    "### LIBRARIES"
   ]
  },
  {
   "cell_type": "code",
   "execution_count": null,
   "id": "a3bcddb987f2383e",
   "metadata": {
    "ExecuteTime": {
     "end_time": "2024-06-12T20:09:03.884001Z",
     "start_time": "2024-06-12T20:09:03.878379Z"
    },
    "collapsed": false,
    "jupyter": {
     "outputs_hidden": false
    }
   },
   "outputs": [],
   "source": [
    "# Deal with data\n",
    "import pandas as pd\n",
    "import json\n",
    "from glob import glob\n",
    "import os\n",
    "\n",
    "# Deal with visualization\n",
    "import seaborn as sns\n",
    "import matplotlib.pyplot as plt\n",
    "\n",
    "# Deal with type hints\n",
    "from typing import List\n",
    "\n",
    "# Deal with time\n",
    "import datetime"
   ]
  },
  {
   "cell_type": "markdown",
   "id": "3a315c21-4e4f-4564-ac03-e70d83f4679f",
   "metadata": {},
   "source": [
    "### GRAPH SETTINGS"
   ]
  },
  {
   "cell_type": "code",
   "execution_count": null,
   "id": "bbaa9a4d-8e81-4e7e-b4f9-f7e8743ba314",
   "metadata": {},
   "outputs": [],
   "source": [
    "%config InlineBackend.figure_format ='retina'\n",
    "sns.set(font_scale=1.5)\n",
    "sns.set_style('darkgrid',\n",
    "              {'xtick.bottom' : True,\n",
    "               'ytick.left': True,\n",
    "               'grid.linestyle':'--',\n",
    "               'font.monospace': ['Computer Modern Typewriter'],\n",
    "               'axes.edgecolor' : 'white'})"
   ]
  },
  {
   "cell_type": "markdown",
   "id": "3792c745-e45a-4324-b724-23923c5ea39b",
   "metadata": {},
   "source": [
    "### DATAFRAME SETTINGS"
   ]
  },
  {
   "cell_type": "code",
   "execution_count": null,
   "id": "54a87689-bcbd-431a-b1bd-1892b8b155f6",
   "metadata": {},
   "outputs": [],
   "source": [
    "pd.set_option(\"display.max_rows\", None, \"display.max_columns\", None)"
   ]
  },
  {
   "cell_type": "markdown",
   "id": "e617f606-12fe-434c-b5c4-32c851afa637",
   "metadata": {},
   "source": [
    "#### Replace your repository names"
   ]
  },
  {
   "cell_type": "code",
   "execution_count": null,
   "id": "3b0dfdf1-0e1f-4eb6-86ed-785f7eef57da",
   "metadata": {},
   "outputs": [],
   "source": [
    "# Add your repos here\n",
    "# Example: ['YourRepoName_1', 'YourRepoName_2']\n",
    "repos_project = ['Admin']"
   ]
  },
  {
   "cell_type": "markdown",
   "id": "94850741-4e7c-49cf-918b-53f226a1e6f3",
   "metadata": {},
   "source": [
    "#### Replace your build workflow .yml file name"
   ]
  },
  {
   "cell_type": "code",
   "execution_count": null,
   "id": "df4d8656-8e7a-4b51-b08f-3b6edf59c5fb",
   "metadata": {},
   "outputs": [],
   "source": [
    "# Set your build workflow .yml name\n",
    "# Example: build.yml -> build\n",
    "build_yml_name = \"code-analysis\""
   ]
  },
  {
   "cell_type": "markdown",
   "id": "cbc4adc2-eb97-40f2-99ea-94e139d39ced",
   "metadata": {},
   "source": [
    "#### Filter dates - Workflow Runs"
   ]
  },
  {
   "cell_type": "code",
   "execution_count": null,
   "id": "ba7f98ec-884e-4da6-bc25-3f0432cd769a",
   "metadata": {},
   "outputs": [],
   "source": [
    "# Set the dates you want to filter the analysis of workflow runs\n",
    "# Example: start_date_workflow_runs = \"2024-09-01\"\n",
    "#          end_date_workflow_runs = \"2024-09-05\"\n",
    "start_date_workflow_runs = \"2024-08-01\" # to get all dates: \"1999-01-01\"\n",
    "end_date_workflow_runs = \"2024-09-21\"   # to get all dates: \"2199-01-01\""
   ]
  },
  {
   "cell_type": "markdown",
   "id": "53a16b0b-f555-4346-a5da-6bd64ffcc2c5",
   "metadata": {},
   "source": [
    "#### Filter dates - Team Throughput"
   ]
  },
  {
   "cell_type": "code",
   "execution_count": null,
   "id": "e2e916f5-96e2-4392-815f-cc9a8c9898be",
   "metadata": {},
   "outputs": [],
   "source": [
    "# Set the dates you want to filter the analysis of issues\n",
    "# Example: start_date_issues = \"2024-09-01\"\n",
    "#          end_date_issues = \"2024-09-05\"\n",
    "start_date_issues = \"2024-08-01\" # to get all dates: \"1999-01-01\"\n",
    "end_date_issues = \"2024-09-21\"   # to get all dates: \"2199-01-01\""
   ]
  },
  {
   "cell_type": "markdown",
   "id": "b6a105e0-2943-4a38-9e85-6cb2e6a5e613",
   "metadata": {},
   "source": [
    "### GitHub\n",
    "##### Path to the folder with all your jsons"
   ]
  },
  {
   "cell_type": "code",
   "execution_count": null,
   "id": "22e8719f-2ae9-4dc6-838c-6adf689adbac",
   "metadata": {},
   "outputs": [],
   "source": [
    "data_runs = glob('./analytics-raw-data/GitHub_API-Runs-fga-eps-mds-*.json')\n",
    "data_issues = glob('./analytics-raw-data/GitHub_API-Issues-fga-eps-mds-*.json')"
   ]
  },
  {
   "cell_type": "markdown",
   "id": "ae407b2c-0d5c-4ea6-9daa-72f3b32a8ab4",
   "metadata": {
    "collapsed": false,
    "jupyter": {
     "outputs_hidden": false
    }
   },
   "source": [
    "# Create Workflow Runs DataFrame"
   ]
  },
  {
   "cell_type": "markdown",
   "id": "ffa8cabeda8ab48c",
   "metadata": {
    "collapsed": false,
    "jupyter": {
     "outputs_hidden": false
    }
   },
   "source": [
    "#### Unmarshall json"
   ]
  },
  {
   "cell_type": "code",
   "execution_count": null,
   "id": "26a5d6d115efe1a6",
   "metadata": {
    "collapsed": false,
    "jupyter": {
     "outputs_hidden": false
    }
   },
   "outputs": [],
   "source": [
    "def unmarshall(json_path: str) -> dict:\n",
    "    with open(json_path) as json_file:\n",
    "        json_obj = json.load(json_file)\n",
    "    return json_obj"
   ]
  },
  {
   "cell_type": "markdown",
   "id": "de82960a-1bed-417a-a1e7-4df4969da498",
   "metadata": {},
   "source": [
    "#### Extract Workflow Runs Data"
   ]
  },
  {
   "cell_type": "code",
   "execution_count": null,
   "id": "f00b83fb-a256-427b-a5dc-056f0a7c5da8",
   "metadata": {},
   "outputs": [],
   "source": [
    "def get_workflow_data():\n",
    "    for json_path in data_runs:\n",
    "        dados = unmarshall(json_path)\n",
    "        table_data = []\n",
    "        for run in dados[\"workflow_runs\"]:\n",
    "            updated_at = datetime.datetime.strptime(run[\"updated_at\"], \"%Y-%m-%dT%H:%M:%SZ\")\n",
    "            created_at = datetime.datetime.strptime(run[\"created_at\"], \"%Y-%m-%dT%H:%M:%SZ\")\n",
    "            feedback_time = (updated_at - created_at).total_seconds()\n",
    "            \n",
    "            workflow_id = run[\"id\"]\n",
    "            conclusion = run[\"conclusion\"]\n",
    "            author = run[\"actor\"][\"login\"]\n",
    "            workflow_yml_name = run[\"path\"].split(\"/\")[-1][:-4]\n",
    "\n",
    "            repo = run[\"repository\"][\"name\"].split(\"-\")[-1]\n",
    "            \n",
    "            table_data.append({\n",
    "                \"Workflow_run ID\": workflow_id,\n",
    "                \"Conclusion\": conclusion,\n",
    "                \"Author\": author,\n",
    "                \"Created at\": created_at,\n",
    "                \"Updated at\": updated_at,\n",
    "                \"Feedback Time\": feedback_time,\n",
    "                \"Workflow .YML Name\": workflow_yml_name,\n",
    "                \"Repository Name\": repo\n",
    "            })\n",
    "\n",
    "    return table_data"
   ]
  },
  {
   "cell_type": "markdown",
   "id": "8b78f114-2fb0-4930-b35e-f30a57a951a1",
   "metadata": {},
   "source": [
    "#### Generate Workflow Runs DataFrame"
   ]
  },
  {
   "cell_type": "code",
   "execution_count": null,
   "id": "0586846b-dd80-42ea-b1f0-c20774766501",
   "metadata": {},
   "outputs": [],
   "source": [
    "def generate_workflow_runs_df(data: List[dict]) -> pd.DataFrame:\n",
    "    df = pd.DataFrame(data)\n",
    "\n",
    "    return df"
   ]
  },
  {
   "cell_type": "code",
   "execution_count": null,
   "id": "9ab30a5a-8986-4fb5-bc24-323e0192440a",
   "metadata": {},
   "outputs": [],
   "source": [
    "workflow_run_df = generate_workflow_runs_df(get_workflow_data())\n",
    "workflow_run_df.head()"
   ]
  },
  {
   "cell_type": "markdown",
   "id": "b80d2146-c622-475c-bebb-436f50004554",
   "metadata": {},
   "source": [
    "### Create dataframe per repository"
   ]
  },
  {
   "cell_type": "code",
   "execution_count": null,
   "id": "15cc9748-c09d-41a4-a053-084be8358ce4",
   "metadata": {},
   "outputs": [],
   "source": [
    "repos_dataframes = []\n",
    "\n",
    "for repo in repos_project:\n",
    "    dataframe = workflow_run_df[workflow_run_df['Repository Name'] == repo]\n",
    "    repos_dataframes.append({'name': repo, 'df': dataframe})"
   ]
  },
  {
   "cell_type": "markdown",
   "id": "db8b8158-b202-4a66-a94b-5d897b8ad1e0",
   "metadata": {},
   "source": [
    "# Create Issues DataFrame"
   ]
  },
  {
   "cell_type": "markdown",
   "id": "49eda046-a6f0-451d-ae6c-aff7d4cee62c",
   "metadata": {},
   "source": [
    "#### Extract Issues Data"
   ]
  },
  {
   "cell_type": "code",
   "execution_count": null,
   "id": "25ba8ea2-1928-45c5-867a-070de8670eb0",
   "metadata": {},
   "outputs": [],
   "source": [
    "def get_issues_data():\n",
    "    for json_path in data_issues:\n",
    "        dados = unmarshall(json_path)\n",
    "        table_data = []\n",
    "        for run in dados:\n",
    "            created_at = run[\"created_at\"]\n",
    "            closed_at  = run[\"closed_at\"]\n",
    "            number = run[\"number\"]\n",
    "            title = run[\"title\"]\n",
    "            \n",
    "            table_data.append({\n",
    "                \"Created at\": created_at,\n",
    "                \"Closed at\": closed_at,\n",
    "                \"Issue Number\": number,\n",
    "                \"Issue Title\": title,\n",
    "            })\n",
    "\n",
    "    return table_data"
   ]
  },
  {
   "cell_type": "markdown",
   "id": "968f8d04-1a6d-4425-9d9a-6ef0d5e8cec9",
   "metadata": {},
   "source": [
    "#### Generate Issues DataFrame"
   ]
  },
  {
   "cell_type": "code",
   "execution_count": null,
   "id": "a67d59f9-343a-4d87-86e4-2a424cf55aab",
   "metadata": {},
   "outputs": [],
   "source": [
    "def generate_issues_df(data: List[dict]) -> pd.DataFrame:\n",
    "    df = pd.DataFrame(data)\n",
    "\n",
    "    df['Created at'] = pd.to_datetime(df['Created at'], format='%Y-%m-%dT%H:%M:%SZ')\n",
    "\n",
    "    df['Closed at'] = pd.to_datetime(df['Closed at'], format='%Y-%m-%dT%H:%M:%SZ')\n",
    "    \n",
    "    return df"
   ]
  },
  {
   "cell_type": "code",
   "execution_count": null,
   "id": "2eef441f-ca1f-4504-aa47-1e77d669709d",
   "metadata": {},
   "outputs": [],
   "source": [
    "issues_df = generate_issues_df(get_issues_data())\n",
    "issues_df.head()"
   ]
  },
  {
   "cell_type": "markdown",
   "id": "d18763f3-9be7-4d12-9a5f-30f3e4e2dde0",
   "metadata": {},
   "source": [
    "# Quality Aspect - Productivity"
   ]
  },
  {
   "cell_type": "markdown",
   "id": "afb1d222-4d16-4913-8ddf-a3684f32bb24",
   "metadata": {},
   "source": [
    "## Factor - Testing Performance"
   ]
  },
  {
   "cell_type": "markdown",
   "id": "2ec244b8-2e00-4786-8966-740a6a9f02ff",
   "metadata": {},
   "source": [
    "### CI Feedback Time"
   ]
  },
  {
   "cell_type": "code",
   "execution_count": null,
   "id": "00ca1f8d-78d9-4bc4-901b-a48e011aa10d",
   "metadata": {},
   "outputs": [],
   "source": [
    "def ci_feedback_time(df: pd.DataFrame):\n",
    "    feedback_times = []\n",
    "    authors_feedback_times = {}\n",
    "    ci_feedback_times = []\n",
    "\n",
    "    # Filter for builds workflow runs only\n",
    "    df_filtered = df[df[\"Workflow .YML Name\"] == build_yml_name].copy()\n",
    "\n",
    "    for run in df_filtered.index:\n",
    "        updated_at = df[\"Updated at\"][run]\n",
    "        created_at = df[\"Created at\"][run]\n",
    "        feedback_time = (updated_at - created_at).total_seconds()\n",
    "        feedback_times.append(feedback_time)\n",
    "\n",
    "    ci_feedback_time = sum(feedback_times) / len(feedback_times)\n",
    "    df_filtered.loc[:, \"Ci Feedback Time\"] = ci_feedback_time\n",
    "\n",
    "    return df_filtered"
   ]
  },
  {
   "cell_type": "markdown",
   "id": "863c66cf-61d7-4ffe-9dfa-a988eb0c313b",
   "metadata": {},
   "source": [
    "### Extra: Count of Successes and Failures Workflows"
   ]
  },
  {
   "cell_type": "code",
   "execution_count": null,
   "id": "7225f6e6-9383-448c-9bd1-2345c6b281d0",
   "metadata": {},
   "outputs": [],
   "source": [
    "def count_success_failure_workflow_runs(df: pd.DataFrame):\n",
    "    counts = df['Conclusion'].value_counts()\n",
    "\n",
    "    num_failures = counts.get('failure', 0)\n",
    "    num_successes = counts.get('success', 0)\n",
    "\n",
    "    return num_failures, num_successes"
   ]
  },
  {
   "cell_type": "markdown",
   "id": "561250db-96a5-49a6-b7d3-c691301d4c3f",
   "metadata": {},
   "source": [
    "## Factor - Issues' Velocity"
   ]
  },
  {
   "attachments": {},
   "cell_type": "markdown",
   "id": "8646b168-63e8-4318-bee1-1f8183283d36",
   "metadata": {},
   "source": [
    "### Team Throughput"
   ]
  },
  {
   "cell_type": "code",
   "execution_count": null,
   "id": "93d1fbf4-1110-44e4-bc4d-d4252e6379eb",
   "metadata": {},
   "outputs": [],
   "source": [
    "def team_throughput(df: pd.DataFrame, start_date: str, end_date: str):\n",
    "    start_date = pd.to_datetime(start_date)\n",
    "    end_date = pd.to_datetime(end_date)\n",
    "    \n",
    "    df_date_filtered = df[(df['Created at'] >= start_date) & (df['Closed at'] <= end_date + pd.Timedelta(days=1))]\n",
    "    df_created = df[(df['Created at'] >= start_date)]\n",
    "\n",
    "    return len(df_date_filtered[df_date_filtered[\"Closed at\"].notnull()]), len(df_created)"
   ]
  },
  {
   "attachments": {},
   "cell_type": "markdown",
   "id": "22b8bf90-2188-426a-8633-94b6979cfab2",
   "metadata": {},
   "source": [
    "## Calculate measures (workflow runs) for each repository\n",
    "\n",
    "Filter the dataset with the set dates in the notebook's beginning."
   ]
  },
  {
   "cell_type": "code",
   "execution_count": null,
   "id": "5def5764-c150-4e39-aaad-2295ec0a9c02",
   "metadata": {},
   "outputs": [],
   "source": [
    "def create_metrics_df(start_date: str, end_date: str) -> pd.DataFrame:\n",
    "    \n",
    "    start_date = pd.to_datetime(start_date)\n",
    "    end_date = pd.to_datetime(end_date)\n",
    "\n",
    "    m1_list = []\n",
    "    m2_list = []\n",
    "    m3_list = []\n",
    "\n",
    "    repository_list = []\n",
    "    version_list = []\n",
    "\n",
    "    for repo_info in repos_dataframes:\n",
    "        repo_df = repo_info[\"df\"]\n",
    "\n",
    "        repo_df['Updated at'] = pd.to_datetime(repo_df['Updated at'])\n",
    "\n",
    "        # Filter the selected date range\n",
    "        df_date_filtered = repo_df[(repo_df['Updated at'] >= start_date) & (repo_df['Updated at'] <= end_date + pd.Timedelta(days=1))]\n",
    "\n",
    "        try:\n",
    "            m1_list.append(ci_feedback_time(df_date_filtered))\n",
    "        except Exception:\n",
    "            m1_list.append(0)\n",
    "\n",
    "        try:\n",
    "            m2_list.append(count_success_failure_workflow_runs(df_date_filtered))\n",
    "        except Exception:\n",
    "            m2_list.append(0)\n",
    "\n",
    "        repository_list.append(repo_info['name'])\n",
    "\n",
    "    return m1_list, m2_list, repository_list"
   ]
  },
  {
   "cell_type": "code",
   "execution_count": null,
   "id": "29e2af33-9959-417c-ad71-20bc985e563e",
   "metadata": {},
   "outputs": [],
   "source": [
    "m1_list, m2_list, repository_list = create_metrics_df(start_date_workflow_runs, end_date_workflow_runs)"
   ]
  },
  {
   "cell_type": "markdown",
   "id": "92d6b400-a92b-408b-8828-8e5eef63d7aa",
   "metadata": {},
   "source": [
    "## Plotting Metrics Functions"
   ]
  },
  {
   "cell_type": "markdown",
   "id": "d953bfed-a4dc-4303-9356-443fdde7a8f8",
   "metadata": {},
   "source": [
    "### Generate CI Feedback Time Plots"
   ]
  },
  {
   "cell_type": "code",
   "execution_count": null,
   "id": "ad0116c1-6ef7-4661-9ab0-a143f573bba4",
   "metadata": {},
   "outputs": [],
   "source": [
    "def ci_feedback_time_plots(df: pd.DataFrame, repo_name: str):\n",
    "    temp = df[['Created at', 'Ci Feedback Time']]\n",
    "    dates = temp.groupby(['Created at']).mean().reset_index()\n",
    "    dates['Created at'] = pd.to_datetime(dates['Created at'])\n",
    "\n",
    "    plt.figure(figsize=(15, 7))\n",
    "    plt.plot(range(len(dates)), dates['Ci Feedback Time'], marker='o', color='b', label='Feedback Time')\n",
    "    plt.xlabel(\"Created at\")\n",
    "    plt.ylabel(\"CI FeedBack Time\")\n",
    "    plt.title(f\"CI FeedBack Time By Creation Date - {repo_name}\")\n",
    "    plt.xticks(range(len(dates)), dates['Created at'].dt.strftime('%Y-%m-%d'), rotation=45)\n",
    "    plt.grid(True)\n",
    "    plt.legend()\n",
    "    plt.tight_layout()\n",
    "    plt.show()"
   ]
  },
  {
   "cell_type": "markdown",
   "id": "7024316f-eebf-4275-a3c4-e5c34359b1dd",
   "metadata": {},
   "source": [
    "### Generate Count of Successes and Failures Workflows Plots"
   ]
  },
  {
   "cell_type": "code",
   "execution_count": null,
   "id": "dbce3363-6d61-4e4a-86b3-acfbdd73bed0",
   "metadata": {},
   "outputs": [],
   "source": [
    "def count_sucess_failure_workflow_plot(data: list, repo_name: str):\n",
    "    labels = [\"Success\", \"Failure\"]\n",
    "    sizes = [data[1], data[0]]\n",
    "    plt.figure(figsize=(15, 7))\n",
    "    colors = ['lightgreen', 'crimson']\n",
    "    plt.pie(sizes, labels=labels, autopct='%1.1f%%', colors=colors)\n",
    "    plt.title(f\"Count of Workflows Runs Success and Failures - {repo_name}\")\n",
    "    plt.legend(labels, loc='best')\n",
    "    plt.tight_layout()\n",
    "    plt.show()"
   ]
  },
  {
   "cell_type": "markdown",
   "id": "6ed6602c-7951-41a3-822e-0cea9aa18a90",
   "metadata": {},
   "source": [
    "### Generate Throughput Pie Plot"
   ]
  },
  {
   "cell_type": "code",
   "execution_count": null,
   "id": "4c5624c2-c94b-47a6-8252-be1299a09998",
   "metadata": {},
   "outputs": [],
   "source": [
    "def team_throughput_plot(data: list):\n",
    "    labels = [\"Closed Issues\", \"Not Closed Issues\"]\n",
    "    sizes = [data[0], data[1]-data[0]]\n",
    "    plt.figure(figsize=(15, 7))\n",
    "    colors = ['lightgreen', 'crimson']\n",
    "    plt.pie(sizes, labels=labels, autopct='%1.1f%%', colors=colors)\n",
    "    plt.title(\"Team Throughput Over a Date Range\")\n",
    "    plt.legend(labels, loc='best')\n",
    "    plt.tight_layout()\n",
    "    plt.show()"
   ]
  },
  {
   "cell_type": "markdown",
   "id": "795ec12b-7ff0-4675-ad3a-137078a911cb",
   "metadata": {},
   "source": [
    "## Data Visualization\n",
    "\n",
    "In this area you will need to plot the metrics of each repository in the selected date range."
   ]
  },
  {
   "cell_type": "code",
   "execution_count": null,
   "id": "f934be1e-3a0c-435d-96f0-ce8b44211905",
   "metadata": {},
   "outputs": [],
   "source": [
    "for repo in range(len(repository_list)):\n",
    "    ci_feedback_time_plots(m1_list[repo], repository_list[repo])\n",
    "    count_sucess_failure_workflow_plot(m2_list[repo], repository_list[repo])"
   ]
  },
  {
   "cell_type": "code",
   "execution_count": null,
   "id": "0b82f716-f11f-41cf-ab98-b4da78f89704",
   "metadata": {},
   "outputs": [],
   "source": [
    "team_throughput_plot(team_throughput(issues_df, start_date_issues, end_date_issues))"
   ]
  },
  {
   "cell_type": "code",
   "execution_count": null,
   "id": "8d4a26b6-79f6-42fe-9fac-d3e66e3514fc",
   "metadata": {},
   "outputs": [],
   "source": []
  }
 ],
 "metadata": {
  "kernelspec": {
   "display_name": "Python 3 (ipykernel)",
   "language": "python",
   "name": "python3"
  },
  "language_info": {
   "codemirror_mode": {
    "name": "ipython",
    "version": 3
   },
   "file_extension": ".py",
   "mimetype": "text/x-python",
   "name": "python",
   "nbconvert_exporter": "python",
   "pygments_lexer": "ipython3",
   "version": "3.10.12"
  }
 },
 "nbformat": 4,
 "nbformat_minor": 5
}
